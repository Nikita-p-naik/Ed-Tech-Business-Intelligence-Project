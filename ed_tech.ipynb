{
 "cells": [
  {
   "cell_type": "code",
   "execution_count": 1,
   "id": "5745fb28",
   "metadata": {},
   "outputs": [],
   "source": [
    "#importing liabraries.\n",
    "import pandas as pd\n",
    "import numpy as np\n",
    "import matplotlib.pyplot as plt\n",
    "import seaborn as sns\n",
    "import warnings\n",
    "warnings.simplefilter('ignore')"
   ]
  },
  {
   "cell_type": "code",
   "execution_count": 2,
   "id": "4b3a0468",
   "metadata": {},
   "outputs": [
    {
     "data": {
      "text/html": [
       "<div>\n",
       "<style scoped>\n",
       "    .dataframe tbody tr th:only-of-type {\n",
       "        vertical-align: middle;\n",
       "    }\n",
       "\n",
       "    .dataframe tbody tr th {\n",
       "        vertical-align: top;\n",
       "    }\n",
       "\n",
       "    .dataframe thead th {\n",
       "        text-align: right;\n",
       "    }\n",
       "</style>\n",
       "<table border=\"1\" class=\"dataframe\">\n",
       "  <thead>\n",
       "    <tr style=\"text-align: right;\">\n",
       "      <th></th>\n",
       "      <th>id</th>\n",
       "      <th>title</th>\n",
       "      <th>url</th>\n",
       "      <th>is_paid</th>\n",
       "      <th>num_subscribers</th>\n",
       "      <th>avg_rating</th>\n",
       "      <th>avg_rating_recent</th>\n",
       "      <th>rating</th>\n",
       "      <th>num_reviews</th>\n",
       "      <th>is_wishlisted</th>\n",
       "      <th>num_published_lectures</th>\n",
       "      <th>num_published_practice_tests</th>\n",
       "      <th>created</th>\n",
       "      <th>published_time</th>\n",
       "      <th>discount_price__amount</th>\n",
       "      <th>discount_price__currency</th>\n",
       "      <th>discount_price__price_string</th>\n",
       "      <th>price_detail__amount</th>\n",
       "      <th>price_detail__currency</th>\n",
       "      <th>price_detail__price_string</th>\n",
       "    </tr>\n",
       "  </thead>\n",
       "  <tbody>\n",
       "    <tr>\n",
       "      <th>0</th>\n",
       "      <td>762616</td>\n",
       "      <td>The Complete SQL Bootcamp 2020: Go from Zero t...</td>\n",
       "      <td>/course/the-complete-sql-bootcamp/</td>\n",
       "      <td>True</td>\n",
       "      <td>295509</td>\n",
       "      <td>4.66019</td>\n",
       "      <td>4.67874</td>\n",
       "      <td>4.67874</td>\n",
       "      <td>78006</td>\n",
       "      <td>False</td>\n",
       "      <td>84</td>\n",
       "      <td>0</td>\n",
       "      <td>2016-02-14T22:57:48Z</td>\n",
       "      <td>2016-04-06T05:16:11Z</td>\n",
       "      <td>455.0</td>\n",
       "      <td>INR</td>\n",
       "      <td>₹455</td>\n",
       "      <td>8640</td>\n",
       "      <td>INR</td>\n",
       "      <td>₹8,640</td>\n",
       "    </tr>\n",
       "    <tr>\n",
       "      <th>1</th>\n",
       "      <td>937678</td>\n",
       "      <td>Tableau 2020 A-Z: Hands-On Tableau Training fo...</td>\n",
       "      <td>/course/tableau10/</td>\n",
       "      <td>True</td>\n",
       "      <td>209070</td>\n",
       "      <td>4.58956</td>\n",
       "      <td>4.60015</td>\n",
       "      <td>4.60015</td>\n",
       "      <td>54581</td>\n",
       "      <td>False</td>\n",
       "      <td>78</td>\n",
       "      <td>0</td>\n",
       "      <td>2016-08-22T12:10:18Z</td>\n",
       "      <td>2016-08-23T16:59:49Z</td>\n",
       "      <td>455.0</td>\n",
       "      <td>INR</td>\n",
       "      <td>₹455</td>\n",
       "      <td>8640</td>\n",
       "      <td>INR</td>\n",
       "      <td>₹8,640</td>\n",
       "    </tr>\n",
       "    <tr>\n",
       "      <th>2</th>\n",
       "      <td>1361790</td>\n",
       "      <td>PMP Exam Prep Seminar -  PMBOK Guide 6</td>\n",
       "      <td>/course/pmp-pmbok6-35-pdus/</td>\n",
       "      <td>True</td>\n",
       "      <td>155282</td>\n",
       "      <td>4.59491</td>\n",
       "      <td>4.59326</td>\n",
       "      <td>4.59326</td>\n",
       "      <td>52653</td>\n",
       "      <td>False</td>\n",
       "      <td>292</td>\n",
       "      <td>2</td>\n",
       "      <td>2017-09-26T16:32:48Z</td>\n",
       "      <td>2017-11-14T23:58:14Z</td>\n",
       "      <td>455.0</td>\n",
       "      <td>INR</td>\n",
       "      <td>₹455</td>\n",
       "      <td>8640</td>\n",
       "      <td>INR</td>\n",
       "      <td>₹8,640</td>\n",
       "    </tr>\n",
       "    <tr>\n",
       "      <th>3</th>\n",
       "      <td>648826</td>\n",
       "      <td>The Complete Financial Analyst Course 2020</td>\n",
       "      <td>/course/the-complete-financial-analyst-course/</td>\n",
       "      <td>True</td>\n",
       "      <td>245860</td>\n",
       "      <td>4.54407</td>\n",
       "      <td>4.53772</td>\n",
       "      <td>4.53772</td>\n",
       "      <td>46447</td>\n",
       "      <td>False</td>\n",
       "      <td>338</td>\n",
       "      <td>0</td>\n",
       "      <td>2015-10-23T13:34:35Z</td>\n",
       "      <td>2016-01-21T01:38:48Z</td>\n",
       "      <td>455.0</td>\n",
       "      <td>INR</td>\n",
       "      <td>₹455</td>\n",
       "      <td>8640</td>\n",
       "      <td>INR</td>\n",
       "      <td>₹8,640</td>\n",
       "    </tr>\n",
       "    <tr>\n",
       "      <th>4</th>\n",
       "      <td>637930</td>\n",
       "      <td>An Entire MBA in 1 Course:Award Winning Busine...</td>\n",
       "      <td>/course/an-entire-mba-in-1-courseaward-winning...</td>\n",
       "      <td>True</td>\n",
       "      <td>374836</td>\n",
       "      <td>4.47080</td>\n",
       "      <td>4.47173</td>\n",
       "      <td>4.47173</td>\n",
       "      <td>41630</td>\n",
       "      <td>False</td>\n",
       "      <td>83</td>\n",
       "      <td>0</td>\n",
       "      <td>2015-10-12T06:39:46Z</td>\n",
       "      <td>2016-01-11T21:39:33Z</td>\n",
       "      <td>455.0</td>\n",
       "      <td>INR</td>\n",
       "      <td>₹455</td>\n",
       "      <td>8640</td>\n",
       "      <td>INR</td>\n",
       "      <td>₹8,640</td>\n",
       "    </tr>\n",
       "  </tbody>\n",
       "</table>\n",
       "</div>"
      ],
      "text/plain": [
       "        id                                              title  \\\n",
       "0   762616  The Complete SQL Bootcamp 2020: Go from Zero t...   \n",
       "1   937678  Tableau 2020 A-Z: Hands-On Tableau Training fo...   \n",
       "2  1361790             PMP Exam Prep Seminar -  PMBOK Guide 6   \n",
       "3   648826         The Complete Financial Analyst Course 2020   \n",
       "4   637930  An Entire MBA in 1 Course:Award Winning Busine...   \n",
       "\n",
       "                                                 url  is_paid  \\\n",
       "0                 /course/the-complete-sql-bootcamp/     True   \n",
       "1                                 /course/tableau10/     True   \n",
       "2                        /course/pmp-pmbok6-35-pdus/     True   \n",
       "3     /course/the-complete-financial-analyst-course/     True   \n",
       "4  /course/an-entire-mba-in-1-courseaward-winning...     True   \n",
       "\n",
       "   num_subscribers  avg_rating  avg_rating_recent   rating  num_reviews  \\\n",
       "0           295509     4.66019            4.67874  4.67874        78006   \n",
       "1           209070     4.58956            4.60015  4.60015        54581   \n",
       "2           155282     4.59491            4.59326  4.59326        52653   \n",
       "3           245860     4.54407            4.53772  4.53772        46447   \n",
       "4           374836     4.47080            4.47173  4.47173        41630   \n",
       "\n",
       "   is_wishlisted  num_published_lectures  num_published_practice_tests  \\\n",
       "0          False                      84                             0   \n",
       "1          False                      78                             0   \n",
       "2          False                     292                             2   \n",
       "3          False                     338                             0   \n",
       "4          False                      83                             0   \n",
       "\n",
       "                created        published_time  discount_price__amount  \\\n",
       "0  2016-02-14T22:57:48Z  2016-04-06T05:16:11Z                   455.0   \n",
       "1  2016-08-22T12:10:18Z  2016-08-23T16:59:49Z                   455.0   \n",
       "2  2017-09-26T16:32:48Z  2017-11-14T23:58:14Z                   455.0   \n",
       "3  2015-10-23T13:34:35Z  2016-01-21T01:38:48Z                   455.0   \n",
       "4  2015-10-12T06:39:46Z  2016-01-11T21:39:33Z                   455.0   \n",
       "\n",
       "  discount_price__currency discount_price__price_string  price_detail__amount  \\\n",
       "0                      INR                         ₹455                  8640   \n",
       "1                      INR                         ₹455                  8640   \n",
       "2                      INR                         ₹455                  8640   \n",
       "3                      INR                         ₹455                  8640   \n",
       "4                      INR                         ₹455                  8640   \n",
       "\n",
       "  price_detail__currency price_detail__price_string  \n",
       "0                    INR                     ₹8,640  \n",
       "1                    INR                     ₹8,640  \n",
       "2                    INR                     ₹8,640  \n",
       "3                    INR                     ₹8,640  \n",
       "4                    INR                     ₹8,640  "
      ]
     },
     "execution_count": 2,
     "metadata": {},
     "output_type": "execute_result"
    }
   ],
   "source": [
    "#importing dataset.\n",
    "ed=pd.read_csv('online_All_Business_p1_p626.csv')\n",
    "ed.head()"
   ]
  },
  {
   "cell_type": "code",
   "execution_count": 3,
   "id": "abc8eee0",
   "metadata": {},
   "outputs": [
    {
     "data": {
      "text/plain": [
       "(9447, 20)"
      ]
     },
     "execution_count": 3,
     "metadata": {},
     "output_type": "execute_result"
    }
   ],
   "source": [
    "#shape of dataset.\n",
    "ed.shape"
   ]
  },
  {
   "cell_type": "code",
   "execution_count": 4,
   "id": "2f2dacb2",
   "metadata": {},
   "outputs": [
    {
     "name": "stdout",
     "output_type": "stream",
     "text": [
      "<class 'pandas.core.frame.DataFrame'>\n",
      "RangeIndex: 9447 entries, 0 to 9446\n",
      "Data columns (total 20 columns):\n",
      " #   Column                        Non-Null Count  Dtype  \n",
      "---  ------                        --------------  -----  \n",
      " 0   id                            9447 non-null   int64  \n",
      " 1   title                         9447 non-null   object \n",
      " 2   url                           9447 non-null   object \n",
      " 3   is_paid                       9447 non-null   bool   \n",
      " 4   num_subscribers               9447 non-null   int64  \n",
      " 5   avg_rating                    9447 non-null   float64\n",
      " 6   avg_rating_recent             9447 non-null   float64\n",
      " 7   rating                        9447 non-null   float64\n",
      " 8   num_reviews                   9447 non-null   int64  \n",
      " 9   is_wishlisted                 9447 non-null   bool   \n",
      " 10  num_published_lectures        9447 non-null   int64  \n",
      " 11  num_published_practice_tests  9447 non-null   int64  \n",
      " 12  created                       9447 non-null   object \n",
      " 13  published_time                9447 non-null   object \n",
      " 14  discount_price__amount        8937 non-null   float64\n",
      " 15  discount_price__currency      8937 non-null   object \n",
      " 16  discount_price__price_string  8937 non-null   object \n",
      " 17  price_detail__amount          9447 non-null   int64  \n",
      " 18  price_detail__currency        9447 non-null   object \n",
      " 19  price_detail__price_string    9447 non-null   object \n",
      "dtypes: bool(2), float64(4), int64(6), object(8)\n",
      "memory usage: 1.3+ MB\n"
     ]
    }
   ],
   "source": [
    "#information of datatype.\n",
    "ed.info()"
   ]
  },
  {
   "cell_type": "code",
   "execution_count": 5,
   "id": "a13f88c1",
   "metadata": {},
   "outputs": [
    {
     "data": {
      "text/html": [
       "<div>\n",
       "<style scoped>\n",
       "    .dataframe tbody tr th:only-of-type {\n",
       "        vertical-align: middle;\n",
       "    }\n",
       "\n",
       "    .dataframe tbody tr th {\n",
       "        vertical-align: top;\n",
       "    }\n",
       "\n",
       "    .dataframe thead th {\n",
       "        text-align: right;\n",
       "    }\n",
       "</style>\n",
       "<table border=\"1\" class=\"dataframe\">\n",
       "  <thead>\n",
       "    <tr style=\"text-align: right;\">\n",
       "      <th></th>\n",
       "      <th>id</th>\n",
       "      <th>num_subscribers</th>\n",
       "      <th>avg_rating</th>\n",
       "      <th>avg_rating_recent</th>\n",
       "      <th>rating</th>\n",
       "      <th>num_reviews</th>\n",
       "      <th>num_published_lectures</th>\n",
       "      <th>num_published_practice_tests</th>\n",
       "      <th>discount_price__amount</th>\n",
       "      <th>price_detail__amount</th>\n",
       "    </tr>\n",
       "  </thead>\n",
       "  <tbody>\n",
       "    <tr>\n",
       "      <th>count</th>\n",
       "      <td>9.447000e+03</td>\n",
       "      <td>9447.000000</td>\n",
       "      <td>9447.000000</td>\n",
       "      <td>9447.000000</td>\n",
       "      <td>9447.000000</td>\n",
       "      <td>9447.000000</td>\n",
       "      <td>9447.000000</td>\n",
       "      <td>9447.000000</td>\n",
       "      <td>8937.000000</td>\n",
       "      <td>9447.000000</td>\n",
       "    </tr>\n",
       "    <tr>\n",
       "      <th>mean</th>\n",
       "      <td>1.456603e+06</td>\n",
       "      <td>3399.298190</td>\n",
       "      <td>4.138522</td>\n",
       "      <td>4.124756</td>\n",
       "      <td>4.124756</td>\n",
       "      <td>299.054515</td>\n",
       "      <td>34.400868</td>\n",
       "      <td>0.101831</td>\n",
       "      <td>488.984111</td>\n",
       "      <td>4828.758336</td>\n",
       "    </tr>\n",
       "    <tr>\n",
       "      <th>std</th>\n",
       "      <td>8.956601e+05</td>\n",
       "      <td>10451.534122</td>\n",
       "      <td>0.453581</td>\n",
       "      <td>0.478410</td>\n",
       "      <td>0.478410</td>\n",
       "      <td>1826.867472</td>\n",
       "      <td>46.061088</td>\n",
       "      <td>0.580037</td>\n",
       "      <td>247.833161</td>\n",
       "      <td>3108.307674</td>\n",
       "    </tr>\n",
       "    <tr>\n",
       "      <th>min</th>\n",
       "      <td>2.762000e+03</td>\n",
       "      <td>3.000000</td>\n",
       "      <td>1.000000</td>\n",
       "      <td>1.000000</td>\n",
       "      <td>1.000000</td>\n",
       "      <td>3.000000</td>\n",
       "      <td>0.000000</td>\n",
       "      <td>0.000000</td>\n",
       "      <td>455.000000</td>\n",
       "      <td>1280.000000</td>\n",
       "    </tr>\n",
       "    <tr>\n",
       "      <th>25%</th>\n",
       "      <td>6.730310e+05</td>\n",
       "      <td>141.000000</td>\n",
       "      <td>3.900000</td>\n",
       "      <td>3.879410</td>\n",
       "      <td>3.879410</td>\n",
       "      <td>12.000000</td>\n",
       "      <td>13.000000</td>\n",
       "      <td>0.000000</td>\n",
       "      <td>455.000000</td>\n",
       "      <td>1600.000000</td>\n",
       "    </tr>\n",
       "    <tr>\n",
       "      <th>50%</th>\n",
       "      <td>1.381806e+06</td>\n",
       "      <td>916.000000</td>\n",
       "      <td>4.200000</td>\n",
       "      <td>4.206080</td>\n",
       "      <td>4.206080</td>\n",
       "      <td>33.000000</td>\n",
       "      <td>23.000000</td>\n",
       "      <td>0.000000</td>\n",
       "      <td>455.000000</td>\n",
       "      <td>3840.000000</td>\n",
       "    </tr>\n",
       "    <tr>\n",
       "      <th>75%</th>\n",
       "      <td>2.154793e+06</td>\n",
       "      <td>2889.500000</td>\n",
       "      <td>4.450000</td>\n",
       "      <td>4.447495</td>\n",
       "      <td>4.447495</td>\n",
       "      <td>110.000000</td>\n",
       "      <td>39.000000</td>\n",
       "      <td>0.000000</td>\n",
       "      <td>455.000000</td>\n",
       "      <td>8640.000000</td>\n",
       "    </tr>\n",
       "    <tr>\n",
       "      <th>max</th>\n",
       "      <td>3.469452e+06</td>\n",
       "      <td>374836.000000</td>\n",
       "      <td>5.000000</td>\n",
       "      <td>5.000000</td>\n",
       "      <td>5.000000</td>\n",
       "      <td>78006.000000</td>\n",
       "      <td>699.000000</td>\n",
       "      <td>6.000000</td>\n",
       "      <td>3200.000000</td>\n",
       "      <td>12800.000000</td>\n",
       "    </tr>\n",
       "  </tbody>\n",
       "</table>\n",
       "</div>"
      ],
      "text/plain": [
       "                 id  num_subscribers   avg_rating  avg_rating_recent  \\\n",
       "count  9.447000e+03      9447.000000  9447.000000        9447.000000   \n",
       "mean   1.456603e+06      3399.298190     4.138522           4.124756   \n",
       "std    8.956601e+05     10451.534122     0.453581           0.478410   \n",
       "min    2.762000e+03         3.000000     1.000000           1.000000   \n",
       "25%    6.730310e+05       141.000000     3.900000           3.879410   \n",
       "50%    1.381806e+06       916.000000     4.200000           4.206080   \n",
       "75%    2.154793e+06      2889.500000     4.450000           4.447495   \n",
       "max    3.469452e+06    374836.000000     5.000000           5.000000   \n",
       "\n",
       "            rating   num_reviews  num_published_lectures  \\\n",
       "count  9447.000000   9447.000000             9447.000000   \n",
       "mean      4.124756    299.054515               34.400868   \n",
       "std       0.478410   1826.867472               46.061088   \n",
       "min       1.000000      3.000000                0.000000   \n",
       "25%       3.879410     12.000000               13.000000   \n",
       "50%       4.206080     33.000000               23.000000   \n",
       "75%       4.447495    110.000000               39.000000   \n",
       "max       5.000000  78006.000000              699.000000   \n",
       "\n",
       "       num_published_practice_tests  discount_price__amount  \\\n",
       "count                   9447.000000             8937.000000   \n",
       "mean                       0.101831              488.984111   \n",
       "std                        0.580037              247.833161   \n",
       "min                        0.000000              455.000000   \n",
       "25%                        0.000000              455.000000   \n",
       "50%                        0.000000              455.000000   \n",
       "75%                        0.000000              455.000000   \n",
       "max                        6.000000             3200.000000   \n",
       "\n",
       "       price_detail__amount  \n",
       "count           9447.000000  \n",
       "mean            4828.758336  \n",
       "std             3108.307674  \n",
       "min             1280.000000  \n",
       "25%             1600.000000  \n",
       "50%             3840.000000  \n",
       "75%             8640.000000  \n",
       "max            12800.000000  "
      ]
     },
     "execution_count": 5,
     "metadata": {},
     "output_type": "execute_result"
    }
   ],
   "source": [
    "#description of data.\n",
    "ed.describe()"
   ]
  },
  {
   "cell_type": "code",
   "execution_count": 6,
   "id": "11e0d0ab",
   "metadata": {},
   "outputs": [
    {
     "data": {
      "text/plain": [
       "id                                0\n",
       "title                             0\n",
       "url                               0\n",
       "is_paid                           0\n",
       "num_subscribers                   0\n",
       "avg_rating                        0\n",
       "avg_rating_recent                 0\n",
       "rating                            0\n",
       "num_reviews                       0\n",
       "is_wishlisted                     0\n",
       "num_published_lectures            0\n",
       "num_published_practice_tests      0\n",
       "created                           0\n",
       "published_time                    0\n",
       "discount_price__amount          510\n",
       "discount_price__currency        510\n",
       "discount_price__price_string    510\n",
       "price_detail__amount              0\n",
       "price_detail__currency            0\n",
       "price_detail__price_string        0\n",
       "dtype: int64"
      ]
     },
     "execution_count": 6,
     "metadata": {},
     "output_type": "execute_result"
    }
   ],
   "source": [
    "#checking for null values.\n",
    "ed.isnull().sum()"
   ]
  },
  {
   "cell_type": "code",
   "execution_count": 7,
   "id": "f8721758",
   "metadata": {
    "scrolled": false
   },
   "outputs": [
    {
     "data": {
      "image/png": "[encoded data removed]",
      "text/plain": [
       "<Figure size 432x288 with 1 Axes>"
      ]
     },
     "metadata": {
      "needs_background": "light"
     },
     "output_type": "display_data"
    },
    {
     "data": {
      "image/png": "[encoded data removed]",
      "text/plain": [
       "<Figure size 432x288 with 1 Axes>"
      ]
     },
     "metadata": {
      "needs_background": "light"
     },
     "output_type": "display_data"
    }
   ],
   "source": [
    "#validating which features are important for EDA and which are not.\n",
    "sns.countplot(x='discount_price__currency',data=ed)\n",
    "plt.show()\n",
    "sns.countplot(x='price_detail__currency',data=ed)\n",
    "plt.show()"
   ]
  },
  {
   "cell_type": "markdown",
   "id": "00608b67",
   "metadata": {},
   "source": [
    "From the above graph we can see currency has only one value i.e. 'INR' so this feature won't affect much to our analysis.\n",
    "hence we can drop it."
   ]
  },
  {
   "cell_type": "code",
   "execution_count": 8,
   "id": "f1c02559",
   "metadata": {
    "scrolled": false
   },
   "outputs": [
    {
     "data": {
      "image/png": "[encoded data removed]",
      "text/plain": [
       "<Figure size 432x288 with 1 Axes>"
      ]
     },
     "metadata": {
      "needs_background": "light"
     },
     "output_type": "display_data"
    },
    {
     "data": {
      "image/png": "[encoded data removed]",
      "text/plain": [
       "<Figure size 432x288 with 1 Axes>"
      ]
     },
     "metadata": {
      "needs_background": "light"
     },
     "output_type": "display_data"
    }
   ],
   "source": [
    "#verifyinf whether this feature affect or not.\n",
    "sns.countplot(x='is_paid',data=ed)\n",
    "plt.show()\n",
    "sns.countplot(x='is_wishlisted',data=ed)\n",
    "plt.show()"
   ]
  },
  {
   "cell_type": "markdown",
   "id": "d05070d5",
   "metadata": {},
   "source": [
    "#### Observations-\n",
    "* From 'is_paid'-True means all the offered courses are paid.\n",
    "* From 'is_wishlisted'-False means no course is added into wishlist.\n",
    "* So we can also drop this feature as well is doesn't affect much to our EDA"
   ]
  },
  {
   "cell_type": "code",
   "execution_count": 9,
   "id": "28415f61",
   "metadata": {
    "scrolled": false
   },
   "outputs": [
    {
     "data": {
      "image/png": "[encoded data removed]",
      "text/plain": [
       "<Figure size 936x288 with 3 Axes>"
      ]
     },
     "metadata": {
      "needs_background": "light"
     },
     "output_type": "display_data"
    }
   ],
   "source": [
    "x=ed['avg_rating_recent']\n",
    "y=ed['rating']\n",
    "z=ed['avg_rating']\n",
    "plt.figure(figsize=(13,4))\n",
    "plt.subplot(1, 3, 1) # row 1, col 2 index 1\n",
    "plt.scatter(x,y,z)\n",
    "plt.title('AVG_ratings_recent')\n",
    "plt.subplot(1, 3, 2) # row 1, col 2 index 2\n",
    "plt.scatter(x,y,z)\n",
    "plt.title('Ratings')\n",
    "plt.subplot(1, 3, 3) # row 1, col 2 index 3\n",
    "plt.scatter(x,y,z)\n",
    "plt.title('AVG_Ratings')\n",
    "plt.show()"
   ]
  },
  {
   "cell_type": "markdown",
   "id": "e155b53d",
   "metadata": {},
   "source": [
    "From above visualization we can visualize that 'avg_rating_recent' feature and 'rating' and 'avg_rating' feature has same values so, we can drop any of them column as well so we can drop 'avg_rating_recent','avg_rating' columns."
   ]
  },
  {
   "cell_type": "code",
   "execution_count": 10,
   "id": "0055ea65",
   "metadata": {},
   "outputs": [],
   "source": [
    "#dropping features which are not affecting EDA as much.\n",
    "ed.drop(['price_detail__currency','discount_price__currency','is_paid','is_wishlisted','discount_price__price_string',\n",
    "        'price_detail__price_string','url','created','avg_rating_recent','avg_rating'],axis=1,inplace=True)"
   ]
  },
  {
   "cell_type": "code",
   "execution_count": 11,
   "id": "47582d14",
   "metadata": {},
   "outputs": [
    {
     "data": {
      "text/plain": [
       "(9447, 10)"
      ]
     },
     "execution_count": 11,
     "metadata": {},
     "output_type": "execute_result"
    }
   ],
   "source": [
    "#verifying final shape of dataset.\n",
    "ed.shape"
   ]
  },
  {
   "cell_type": "markdown",
   "id": "0d60e16a",
   "metadata": {},
   "source": [
    "After removing unnecessary features from dataset the final number of columns are 10 which was 20 before."
   ]
  },
  {
   "cell_type": "code",
   "execution_count": 38,
   "id": "97d1d3c5",
   "metadata": {},
   "outputs": [
    {
     "data": {
      "text/html": [
       "<div>\n",
       "<style scoped>\n",
       "    .dataframe tbody tr th:only-of-type {\n",
       "        vertical-align: middle;\n",
       "    }\n",
       "\n",
       "    .dataframe tbody tr th {\n",
       "        vertical-align: top;\n",
       "    }\n",
       "\n",
       "    .dataframe thead th {\n",
       "        text-align: right;\n",
       "    }\n",
       "</style>\n",
       "<table border=\"1\" class=\"dataframe\">\n",
       "  <thead>\n",
       "    <tr style=\"text-align: right;\">\n",
       "      <th></th>\n",
       "      <th>id</th>\n",
       "      <th>Courses</th>\n",
       "      <th>Subscriber</th>\n",
       "      <th>rating</th>\n",
       "      <th>Reviews</th>\n",
       "      <th>Lectures</th>\n",
       "      <th>Practice_test</th>\n",
       "      <th>published_time</th>\n",
       "      <th>disc_price</th>\n",
       "      <th>Price</th>\n",
       "      <th>Published</th>\n",
       "      <th>year</th>\n",
       "    </tr>\n",
       "  </thead>\n",
       "  <tbody>\n",
       "    <tr>\n",
       "      <th>0</th>\n",
       "      <td>762616</td>\n",
       "      <td>The Complete SQL Bootcamp 2020: Go from Zero t...</td>\n",
       "      <td>295509</td>\n",
       "      <td>4.67874</td>\n",
       "      <td>78006</td>\n",
       "      <td>84</td>\n",
       "      <td>0</td>\n",
       "      <td>2016-04-06 05:16:11</td>\n",
       "      <td>455.0</td>\n",
       "      <td>8640</td>\n",
       "      <td>2016-04-06</td>\n",
       "      <td>2016</td>\n",
       "    </tr>\n",
       "    <tr>\n",
       "      <th>1</th>\n",
       "      <td>937678</td>\n",
       "      <td>Tableau 2020 A-Z: Hands-On Tableau Training fo...</td>\n",
       "      <td>209070</td>\n",
       "      <td>4.60015</td>\n",
       "      <td>54581</td>\n",
       "      <td>78</td>\n",
       "      <td>0</td>\n",
       "      <td>2016-08-23 16:59:49</td>\n",
       "      <td>455.0</td>\n",
       "      <td>8640</td>\n",
       "      <td>2016-08-23</td>\n",
       "      <td>2016</td>\n",
       "    </tr>\n",
       "    <tr>\n",
       "      <th>2</th>\n",
       "      <td>1361790</td>\n",
       "      <td>PMP Exam Prep Seminar -  PMBOK Guide 6</td>\n",
       "      <td>155282</td>\n",
       "      <td>4.59326</td>\n",
       "      <td>52653</td>\n",
       "      <td>292</td>\n",
       "      <td>2</td>\n",
       "      <td>2017-11-14 23:58:14</td>\n",
       "      <td>455.0</td>\n",
       "      <td>8640</td>\n",
       "      <td>2017-11-14</td>\n",
       "      <td>2017</td>\n",
       "    </tr>\n",
       "    <tr>\n",
       "      <th>3</th>\n",
       "      <td>648826</td>\n",
       "      <td>The Complete Financial Analyst Course 2020</td>\n",
       "      <td>245860</td>\n",
       "      <td>4.53772</td>\n",
       "      <td>46447</td>\n",
       "      <td>338</td>\n",
       "      <td>0</td>\n",
       "      <td>2016-01-21 01:38:48</td>\n",
       "      <td>455.0</td>\n",
       "      <td>8640</td>\n",
       "      <td>2016-01-21</td>\n",
       "      <td>2016</td>\n",
       "    </tr>\n",
       "    <tr>\n",
       "      <th>4</th>\n",
       "      <td>637930</td>\n",
       "      <td>An Entire MBA in 1 Course:Award Winning Busine...</td>\n",
       "      <td>374836</td>\n",
       "      <td>4.47173</td>\n",
       "      <td>41630</td>\n",
       "      <td>83</td>\n",
       "      <td>0</td>\n",
       "      <td>2016-01-11 21:39:33</td>\n",
       "      <td>455.0</td>\n",
       "      <td>8640</td>\n",
       "      <td>2016-01-11</td>\n",
       "      <td>2016</td>\n",
       "    </tr>\n",
       "  </tbody>\n",
       "</table>\n",
       "</div>"
      ],
      "text/plain": [
       "        id                                            Courses  Subscriber  \\\n",
       "0   762616  The Complete SQL Bootcamp 2020: Go from Zero t...      295509   \n",
       "1   937678  Tableau 2020 A-Z: Hands-On Tableau Training fo...      209070   \n",
       "2  1361790             PMP Exam Prep Seminar -  PMBOK Guide 6      155282   \n",
       "3   648826         The Complete Financial Analyst Course 2020      245860   \n",
       "4   637930  An Entire MBA in 1 Course:Award Winning Busine...      374836   \n",
       "\n",
       "    rating  Reviews  Lectures  Practice_test      published_time  disc_price  \\\n",
       "0  4.67874    78006        84              0 2016-04-06 05:16:11       455.0   \n",
       "1  4.60015    54581        78              0 2016-08-23 16:59:49       455.0   \n",
       "2  4.59326    52653       292              2 2017-11-14 23:58:14       455.0   \n",
       "3  4.53772    46447       338              0 2016-01-21 01:38:48       455.0   \n",
       "4  4.47173    41630        83              0 2016-01-11 21:39:33       455.0   \n",
       "\n",
       "   Price   Published  year  \n",
       "0   8640  2016-04-06  2016  \n",
       "1   8640  2016-08-23  2016  \n",
       "2   8640  2017-11-14  2017  \n",
       "3   8640  2016-01-21  2016  \n",
       "4   8640  2016-01-11  2016  "
      ]
     },
     "execution_count": 38,
     "metadata": {},
     "output_type": "execute_result"
    }
   ],
   "source": [
    "#renaming the fields.\n",
    "ed.rename(columns={'num_subscribers':'Subscriber','num_published_lectures':'Lectures',\n",
    "                   'num_published_practice_tests':'Practice_test','price_detail__amount':'Price',\n",
    "                   'num_reviews':'Reviews','title':'Courses','discount_price__amount':'disc_price'},inplace=True)\n",
    "ed.head()"
   ]
  },
  {
   "cell_type": "code",
   "execution_count": 39,
   "id": "6827e748",
   "metadata": {},
   "outputs": [
    {
     "data": {
      "text/html": [
       "<div>\n",
       "<style scoped>\n",
       "    .dataframe tbody tr th:only-of-type {\n",
       "        vertical-align: middle;\n",
       "    }\n",
       "\n",
       "    .dataframe tbody tr th {\n",
       "        vertical-align: top;\n",
       "    }\n",
       "\n",
       "    .dataframe thead th {\n",
       "        text-align: right;\n",
       "    }\n",
       "</style>\n",
       "<table border=\"1\" class=\"dataframe\">\n",
       "  <thead>\n",
       "    <tr style=\"text-align: right;\">\n",
       "      <th></th>\n",
       "      <th>id</th>\n",
       "      <th>Subscriber</th>\n",
       "      <th>rating</th>\n",
       "      <th>Reviews</th>\n",
       "      <th>Lectures</th>\n",
       "      <th>Practice_test</th>\n",
       "      <th>disc_price</th>\n",
       "      <th>Price</th>\n",
       "      <th>year</th>\n",
       "    </tr>\n",
       "  </thead>\n",
       "  <tbody>\n",
       "    <tr>\n",
       "      <th>count</th>\n",
       "      <td>9.447000e+03</td>\n",
       "      <td>9447.000000</td>\n",
       "      <td>9447.000000</td>\n",
       "      <td>9447.000000</td>\n",
       "      <td>9447.000000</td>\n",
       "      <td>9447.000000</td>\n",
       "      <td>8937.000000</td>\n",
       "      <td>9447.000000</td>\n",
       "      <td>9447.000000</td>\n",
       "    </tr>\n",
       "    <tr>\n",
       "      <th>mean</th>\n",
       "      <td>1.456603e+06</td>\n",
       "      <td>3399.298190</td>\n",
       "      <td>4.124756</td>\n",
       "      <td>299.054515</td>\n",
       "      <td>34.400868</td>\n",
       "      <td>0.101831</td>\n",
       "      <td>488.984111</td>\n",
       "      <td>4828.758336</td>\n",
       "      <td>2017.141950</td>\n",
       "    </tr>\n",
       "    <tr>\n",
       "      <th>std</th>\n",
       "      <td>8.956601e+05</td>\n",
       "      <td>10451.534122</td>\n",
       "      <td>0.478410</td>\n",
       "      <td>1826.867472</td>\n",
       "      <td>46.061088</td>\n",
       "      <td>0.580037</td>\n",
       "      <td>247.833161</td>\n",
       "      <td>3108.307674</td>\n",
       "      <td>1.974982</td>\n",
       "    </tr>\n",
       "    <tr>\n",
       "      <th>min</th>\n",
       "      <td>2.762000e+03</td>\n",
       "      <td>3.000000</td>\n",
       "      <td>1.000000</td>\n",
       "      <td>3.000000</td>\n",
       "      <td>0.000000</td>\n",
       "      <td>0.000000</td>\n",
       "      <td>455.000000</td>\n",
       "      <td>1280.000000</td>\n",
       "      <td>2010.000000</td>\n",
       "    </tr>\n",
       "    <tr>\n",
       "      <th>25%</th>\n",
       "      <td>6.730310e+05</td>\n",
       "      <td>141.000000</td>\n",
       "      <td>3.879410</td>\n",
       "      <td>12.000000</td>\n",
       "      <td>13.000000</td>\n",
       "      <td>0.000000</td>\n",
       "      <td>455.000000</td>\n",
       "      <td>1600.000000</td>\n",
       "      <td>2016.000000</td>\n",
       "    </tr>\n",
       "    <tr>\n",
       "      <th>50%</th>\n",
       "      <td>1.381806e+06</td>\n",
       "      <td>916.000000</td>\n",
       "      <td>4.206080</td>\n",
       "      <td>33.000000</td>\n",
       "      <td>23.000000</td>\n",
       "      <td>0.000000</td>\n",
       "      <td>455.000000</td>\n",
       "      <td>3840.000000</td>\n",
       "      <td>2017.000000</td>\n",
       "    </tr>\n",
       "    <tr>\n",
       "      <th>75%</th>\n",
       "      <td>2.154793e+06</td>\n",
       "      <td>2889.500000</td>\n",
       "      <td>4.447495</td>\n",
       "      <td>110.000000</td>\n",
       "      <td>39.000000</td>\n",
       "      <td>0.000000</td>\n",
       "      <td>455.000000</td>\n",
       "      <td>8640.000000</td>\n",
       "      <td>2019.000000</td>\n",
       "    </tr>\n",
       "    <tr>\n",
       "      <th>max</th>\n",
       "      <td>3.469452e+06</td>\n",
       "      <td>374836.000000</td>\n",
       "      <td>5.000000</td>\n",
       "      <td>78006.000000</td>\n",
       "      <td>699.000000</td>\n",
       "      <td>6.000000</td>\n",
       "      <td>3200.000000</td>\n",
       "      <td>12800.000000</td>\n",
       "      <td>2020.000000</td>\n",
       "    </tr>\n",
       "  </tbody>\n",
       "</table>\n",
       "</div>"
      ],
      "text/plain": [
       "                 id     Subscriber       rating       Reviews     Lectures  \\\n",
       "count  9.447000e+03    9447.000000  9447.000000   9447.000000  9447.000000   \n",
       "mean   1.456603e+06    3399.298190     4.124756    299.054515    34.400868   \n",
       "std    8.956601e+05   10451.534122     0.478410   1826.867472    46.061088   \n",
       "min    2.762000e+03       3.000000     1.000000      3.000000     0.000000   \n",
       "25%    6.730310e+05     141.000000     3.879410     12.000000    13.000000   \n",
       "50%    1.381806e+06     916.000000     4.206080     33.000000    23.000000   \n",
       "75%    2.154793e+06    2889.500000     4.447495    110.000000    39.000000   \n",
       "max    3.469452e+06  374836.000000     5.000000  78006.000000   699.000000   \n",
       "\n",
       "       Practice_test   disc_price         Price         year  \n",
       "count    9447.000000  8937.000000   9447.000000  9447.000000  \n",
       "mean        0.101831   488.984111   4828.758336  2017.141950  \n",
       "std         0.580037   247.833161   3108.307674     1.974982  \n",
       "min         0.000000   455.000000   1280.000000  2010.000000  \n",
       "25%         0.000000   455.000000   1600.000000  2016.000000  \n",
       "50%         0.000000   455.000000   3840.000000  2017.000000  \n",
       "75%         0.000000   455.000000   8640.000000  2019.000000  \n",
       "max         6.000000  3200.000000  12800.000000  2020.000000  "
      ]
     },
     "execution_count": 39,
     "metadata": {},
     "output_type": "execute_result"
    }
   ],
   "source": [
    "#5 point summary for final features.\n",
    "ed.describe()"
   ]
  },
  {
   "cell_type": "code",
   "execution_count": 14,
   "id": "0a6ab607",
   "metadata": {},
   "outputs": [
    {
     "data": {
      "text/plain": [
       "0"
      ]
     },
     "execution_count": 14,
     "metadata": {},
     "output_type": "execute_result"
    }
   ],
   "source": [
    "#checking for duplicate values in dataset.\n",
    "ed.duplicated().sum()"
   ]
  },
  {
   "cell_type": "markdown",
   "id": "de952d1b",
   "metadata": {},
   "source": [
    " No duplicate values are present in the dataset."
   ]
  },
  {
   "cell_type": "code",
   "execution_count": 15,
   "id": "60d94d36",
   "metadata": {},
   "outputs": [
    {
     "data": {
      "image/png": "[encoded data removed]",
      "text/plain": [
       "<Figure size 432x288 with 1 Axes>"
      ]
     },
     "metadata": {
      "needs_background": "light"
     },
     "output_type": "display_data"
    }
   ],
   "source": [
    "#cheking relation b/w rating ans subscriber column.\n",
    "sns.scatterplot(x='rating',y='Subscriber',data=ed,color='blue')\n",
    "plt.show()"
   ]
  },
  {
   "cell_type": "markdown",
   "id": "69f11c3e",
   "metadata": {},
   "source": [
    "From the visualization as the number of subscriber increases the ratings are increasing as well."
   ]
  },
  {
   "cell_type": "code",
   "execution_count": 16,
   "id": "2c7fc1ea",
   "metadata": {},
   "outputs": [
    {
     "data": {
      "image/png": "[encoded data removed]",
      "text/plain": [
       "<Figure size 432x288 with 1 Axes>"
      ]
     },
     "metadata": {
      "needs_background": "light"
     },
     "output_type": "display_data"
    }
   ],
   "source": [
    "#checking relation b/w practise_test and rating.\n",
    "sns.regplot(x='Practice_test',y='rating',data=ed,color='darkblue')\n",
    "plt.show()"
   ]
  },
  {
   "cell_type": "markdown",
   "id": "2c3d0fa2",
   "metadata": {},
   "source": [
    "From this visualization we can observe that the regression line is showing changes in rating as well as the value of practice_test changes."
   ]
  },
  {
   "cell_type": "code",
   "execution_count": 37,
   "id": "174bccb6",
   "metadata": {},
   "outputs": [
    {
     "data": {
      "image/png": "[encoded data removed]",
      "text/plain": [
       "<Figure size 432x288 with 1 Axes>"
      ]
     },
     "metadata": {
      "needs_background": "light"
     },
     "output_type": "display_data"
    }
   ],
   "source": [
    "#relation b/w rating and lectures.\n",
    "sns.scatterplot(x='rating',y='Lectures',data=ed)\n",
    "plt.show()"
   ]
  },
  {
   "cell_type": "markdown",
   "id": "9d05b943",
   "metadata": {},
   "source": [
    "From the above graph we can observe the positive relationship between rating and lectures."
   ]
  },
  {
   "cell_type": "code",
   "execution_count": 48,
   "id": "9fd68d1c",
   "metadata": {},
   "outputs": [
    {
     "data": {
      "image/png": "[encoded data removed]",
      "text/plain": [
       "<Figure size 720x504 with 2 Axes>"
      ]
     },
     "metadata": {
      "needs_background": "light"
     },
     "output_type": "display_data"
    }
   ],
   "source": [
    "#checking correlation between all numerical values.\n",
    "plt.figure(figsize=(10,7))\n",
    "sns.heatmap(ed.corr(),annot=True,cmap='Blues',linewidth=0.2)\n",
    "plt.show()"
   ]
  },
  {
   "cell_type": "markdown",
   "id": "fd6c856b",
   "metadata": {},
   "source": [
    "From this heatmap we see positive linear relationship between reviews and subscriber and negative relationship of practice_test\n",
    "with almost all numerical variables."
   ]
  },
  {
   "cell_type": "code",
   "execution_count": 19,
   "id": "3d9ce219",
   "metadata": {},
   "outputs": [
    {
     "data": {
      "image/png": "[encoded data removed]",
      "text/plain": [
       "<Figure size 432x288 with 1 Axes>"
      ]
     },
     "metadata": {
      "needs_background": "light"
     },
     "output_type": "display_data"
    }
   ],
   "source": [
    "#checking price variable relationship with other variable.\n",
    "sns.scatterplot(y='Subscriber',x='Price',data=ed,color='purple')\n",
    "plt.show()"
   ]
  },
  {
   "cell_type": "markdown",
   "id": "d557553b",
   "metadata": {},
   "source": [
    "regression line showing the linear relation between subscriber and price."
   ]
  },
  {
   "cell_type": "code",
   "execution_count": 20,
   "id": "765e2071",
   "metadata": {},
   "outputs": [
    {
     "data": {
      "image/png": "[encoded data removed]",
      "text/plain": [
       "<Figure size 432x288 with 1 Axes>"
      ]
     },
     "metadata": {
      "needs_background": "light"
     },
     "output_type": "display_data"
    }
   ],
   "source": [
    "#checking relationship between ratings and reviews.\n",
    "sns.scatterplot(x='rating',y='Reviews',data=ed)\n",
    "plt.show()"
   ]
  },
  {
   "cell_type": "markdown",
   "id": "989dad0b",
   "metadata": {},
   "source": [
    "AS we can see most of reviews are helping to improve the ratings i.e. positively related to each other."
   ]
  },
  {
   "cell_type": "code",
   "execution_count": 21,
   "id": "2e45e5eb",
   "metadata": {},
   "outputs": [
    {
     "data": {
      "image/png": "[encoded data removed]",
      "text/plain": [
       "<Figure size 432x288 with 1 Axes>"
      ]
     },
     "metadata": {
      "needs_background": "light"
     },
     "output_type": "display_data"
    }
   ],
   "source": [
    "#plotting regression between price and lecture.\n",
    "sns.regplot(x='Price',y='Lectures',data=ed)\n",
    "plt.show()"
   ]
  },
  {
   "cell_type": "markdown",
   "id": "243cf134",
   "metadata": {},
   "source": [
    "As the number of lectures are improving price is also showing improvements."
   ]
  },
  {
   "cell_type": "code",
   "execution_count": 22,
   "id": "2dee41de",
   "metadata": {},
   "outputs": [
    {
     "data": {
      "image/png": "[encoded data removed]",
      "text/plain": [
       "<Figure size 432x288 with 1 Axes>"
      ]
     },
     "metadata": {
      "needs_background": "light"
     },
     "output_type": "display_data"
    }
   ],
   "source": [
    "#relation between practise_test and price.\n",
    "sns. scatterplot(y='Practice_test',x='Price',data=ed)\n",
    "plt.show()"
   ]
  },
  {
   "cell_type": "code",
   "execution_count": 23,
   "id": "b5fa3cfb",
   "metadata": {},
   "outputs": [
    {
     "data": {
      "text/plain": [
       "0       2016-04-06T05:16:11Z\n",
       "1       2016-08-23T16:59:49Z\n",
       "2       2017-11-14T23:58:14Z\n",
       "3       2016-01-21T01:38:48Z\n",
       "4       2016-01-11T21:39:33Z\n",
       "                ...         \n",
       "9442    2018-10-31T22:58:12Z\n",
       "9443    2018-12-04T02:13:17Z\n",
       "9444    2018-10-27T21:50:36Z\n",
       "9445    2020-01-21T16:25:32Z\n",
       "9446    2020-02-11T22:10:35Z\n",
       "Name: published_time, Length: 9447, dtype: object"
      ]
     },
     "execution_count": 23,
     "metadata": {},
     "output_type": "execute_result"
    }
   ],
   "source": [
    "#checking published column to manupulate data.\n",
    "ed.published_time"
   ]
  },
  {
   "cell_type": "code",
   "execution_count": 24,
   "id": "bc896f4d",
   "metadata": {},
   "outputs": [
    {
     "data": {
      "text/plain": [
       "pandas.core.series.Series"
      ]
     },
     "execution_count": 24,
     "metadata": {},
     "output_type": "execute_result"
    }
   ],
   "source": [
    "#checking the datatype of published time column.\n",
    "type(ed['published_time'])"
   ]
  },
  {
   "cell_type": "code",
   "execution_count": 25,
   "id": "f2b44c03",
   "metadata": {},
   "outputs": [
    {
     "data": {
      "text/plain": [
       "0       2016-04-06\n",
       "1       2016-08-23\n",
       "2       2017-11-14\n",
       "3       2016-01-21\n",
       "4       2016-01-11\n",
       "           ...    \n",
       "9442    2018-10-31\n",
       "9443    2018-12-04\n",
       "9444    2018-10-27\n",
       "9445    2020-01-21\n",
       "9446    2020-02-11\n",
       "Name: Published, Length: 9447, dtype: object"
      ]
     },
     "execution_count": 25,
     "metadata": {},
     "output_type": "execute_result"
    }
   ],
   "source": [
    "#converting series to datetime.\n",
    "ed['published_time']=pd.to_datetime(ed['published_time'])\n",
    "ed['Published']=ed['published_time'].dt.date\n",
    "ed['Published']"
   ]
  },
  {
   "cell_type": "code",
   "execution_count": 53,
   "id": "7dc3e566",
   "metadata": {},
   "outputs": [],
   "source": [
    "#dropping duplicate column.\n",
    "ed.drop('published_time',axis=1,inplace=True)"
   ]
  },
  {
   "cell_type": "markdown",
   "id": "0678b07a",
   "metadata": {},
   "source": [
    "As we separated published date of course from the time so we no longer need this column hence dropped."
   ]
  },
  {
   "cell_type": "code",
   "execution_count": 26,
   "id": "0dde8fb8",
   "metadata": {},
   "outputs": [
    {
     "data": {
      "text/plain": [
       "array([2016, 2017, 2014, 2018, 2015, 2013, 2019, 2020, 2012, 2010, 2011],\n",
       "      dtype=int64)"
      ]
     },
     "execution_count": 26,
     "metadata": {},
     "output_type": "execute_result"
    }
   ],
   "source": [
    "#filtering year from date.\n",
    "ed['year']=pd.DatetimeIndex(ed.Published).year\n",
    "ed['year'].unique()"
   ]
  },
  {
   "cell_type": "code",
   "execution_count": 27,
   "id": "4cb9206d",
   "metadata": {
    "scrolled": true
   },
   "outputs": [
    {
     "data": {
      "image/png": "[encoded data removed]",
      "text/plain": [
       "<Figure size 432x288 with 1 Axes>"
      ]
     },
     "metadata": {
      "needs_background": "light"
     },
     "output_type": "display_data"
    }
   ],
   "source": [
    "#ploting counplot to see the yearwise trend.\n",
    "sns.countplot(x=ed['year'],order=ed.year.value_counts().sort_values(ascending=False).index)\n",
    "plt.show()"
   ]
  },
  {
   "cell_type": "markdown",
   "id": "24e70860",
   "metadata": {},
   "source": [
    "From this visualization we can see the trend yearwise in 2018 trend was on the top."
   ]
  },
  {
   "cell_type": "code",
   "execution_count": 28,
   "id": "19b3ea4b",
   "metadata": {},
   "outputs": [
    {
     "data": {
      "text/html": [
       "<div>\n",
       "<style scoped>\n",
       "    .dataframe tbody tr th:only-of-type {\n",
       "        vertical-align: middle;\n",
       "    }\n",
       "\n",
       "    .dataframe tbody tr th {\n",
       "        vertical-align: top;\n",
       "    }\n",
       "\n",
       "    .dataframe thead th {\n",
       "        text-align: right;\n",
       "    }\n",
       "</style>\n",
       "<table border=\"1\" class=\"dataframe\">\n",
       "  <thead>\n",
       "    <tr style=\"text-align: right;\">\n",
       "      <th></th>\n",
       "      <th>Courses</th>\n",
       "      <th>rating</th>\n",
       "    </tr>\n",
       "  </thead>\n",
       "  <tbody>\n",
       "    <tr>\n",
       "      <th>9446</th>\n",
       "      <td>How to enter the US market?</td>\n",
       "      <td>5.0</td>\n",
       "    </tr>\n",
       "    <tr>\n",
       "      <th>6821</th>\n",
       "      <td>Energizing Your Powerful Entrepreneurial Mindset</td>\n",
       "      <td>5.0</td>\n",
       "    </tr>\n",
       "    <tr>\n",
       "      <th>8924</th>\n",
       "      <td>The Science of Teams (TSoT) - Theory</td>\n",
       "      <td>5.0</td>\n",
       "    </tr>\n",
       "    <tr>\n",
       "      <th>8917</th>\n",
       "      <td>Create a Money Making Pitch for More Customers...</td>\n",
       "      <td>5.0</td>\n",
       "    </tr>\n",
       "    <tr>\n",
       "      <th>8890</th>\n",
       "      <td>Become a Student Investor</td>\n",
       "      <td>5.0</td>\n",
       "    </tr>\n",
       "    <tr>\n",
       "      <th>8881</th>\n",
       "      <td>Mastering Productivity For The Busy Professional</td>\n",
       "      <td>5.0</td>\n",
       "    </tr>\n",
       "    <tr>\n",
       "      <th>8878</th>\n",
       "      <td>3 Online Business / Side Hustle Ideas For Spor...</td>\n",
       "      <td>5.0</td>\n",
       "    </tr>\n",
       "    <tr>\n",
       "      <th>8872</th>\n",
       "      <td>Just Give me the Codes: Entry Level Python</td>\n",
       "      <td>5.0</td>\n",
       "    </tr>\n",
       "    <tr>\n",
       "      <th>8861</th>\n",
       "      <td>The Consulting Case Interview: Beginner to Expert</td>\n",
       "      <td>5.0</td>\n",
       "    </tr>\n",
       "    <tr>\n",
       "      <th>9140</th>\n",
       "      <td>Increase Your Profit by Understanding the Numbers</td>\n",
       "      <td>5.0</td>\n",
       "    </tr>\n",
       "  </tbody>\n",
       "</table>\n",
       "</div>"
      ],
      "text/plain": [
       "                                                Courses  rating\n",
       "9446                        How to enter the US market?     5.0\n",
       "6821   Energizing Your Powerful Entrepreneurial Mindset     5.0\n",
       "8924               The Science of Teams (TSoT) - Theory     5.0\n",
       "8917  Create a Money Making Pitch for More Customers...     5.0\n",
       "8890                          Become a Student Investor     5.0\n",
       "8881  Mastering Productivity For The Busy Professional      5.0\n",
       "8878  3 Online Business / Side Hustle Ideas For Spor...     5.0\n",
       "8872         Just Give me the Codes: Entry Level Python     5.0\n",
       "8861  The Consulting Case Interview: Beginner to Expert     5.0\n",
       "9140  Increase Your Profit by Understanding the Numbers     5.0"
      ]
     },
     "execution_count": 28,
     "metadata": {},
     "output_type": "execute_result"
    }
   ],
   "source": [
    "#top 10 courses by ratings.\n",
    "ed[['Courses','rating']].sort_values(by='rating',ascending=False).head(10)"
   ]
  },
  {
   "cell_type": "markdown",
   "id": "584a9a08",
   "metadata": {},
   "source": [
    "Here is the list of Top 10 rated courses. "
   ]
  },
  {
   "cell_type": "code",
   "execution_count": 29,
   "id": "5abcc38f",
   "metadata": {},
   "outputs": [
    {
     "data": {
      "text/html": [
       "<div>\n",
       "<style scoped>\n",
       "    .dataframe tbody tr th:only-of-type {\n",
       "        vertical-align: middle;\n",
       "    }\n",
       "\n",
       "    .dataframe tbody tr th {\n",
       "        vertical-align: top;\n",
       "    }\n",
       "\n",
       "    .dataframe thead th {\n",
       "        text-align: right;\n",
       "    }\n",
       "</style>\n",
       "<table border=\"1\" class=\"dataframe\">\n",
       "  <thead>\n",
       "    <tr style=\"text-align: right;\">\n",
       "      <th></th>\n",
       "      <th>Courses</th>\n",
       "      <th>Lectures</th>\n",
       "      <th>Reviews</th>\n",
       "    </tr>\n",
       "  </thead>\n",
       "  <tbody>\n",
       "    <tr>\n",
       "      <th>0</th>\n",
       "      <td>The Complete SQL Bootcamp 2020: Go from Zero t...</td>\n",
       "      <td>84</td>\n",
       "      <td>78006</td>\n",
       "    </tr>\n",
       "    <tr>\n",
       "      <th>1</th>\n",
       "      <td>Tableau 2020 A-Z: Hands-On Tableau Training fo...</td>\n",
       "      <td>78</td>\n",
       "      <td>54581</td>\n",
       "    </tr>\n",
       "    <tr>\n",
       "      <th>2</th>\n",
       "      <td>PMP Exam Prep Seminar -  PMBOK Guide 6</td>\n",
       "      <td>292</td>\n",
       "      <td>52653</td>\n",
       "    </tr>\n",
       "    <tr>\n",
       "      <th>3</th>\n",
       "      <td>The Complete Financial Analyst Course 2020</td>\n",
       "      <td>338</td>\n",
       "      <td>46447</td>\n",
       "    </tr>\n",
       "    <tr>\n",
       "      <th>4</th>\n",
       "      <td>An Entire MBA in 1 Course:Award Winning Busine...</td>\n",
       "      <td>83</td>\n",
       "      <td>41630</td>\n",
       "    </tr>\n",
       "    <tr>\n",
       "      <th>5</th>\n",
       "      <td>Microsoft Power BI - A Complete Introduction [...</td>\n",
       "      <td>275</td>\n",
       "      <td>38093</td>\n",
       "    </tr>\n",
       "    <tr>\n",
       "      <th>6</th>\n",
       "      <td>Agile Crash Course: Agile Project Management; ...</td>\n",
       "      <td>23</td>\n",
       "      <td>30470</td>\n",
       "    </tr>\n",
       "    <tr>\n",
       "      <th>7</th>\n",
       "      <td>Beginner to Pro in Excel: Financial Modeling a...</td>\n",
       "      <td>275</td>\n",
       "      <td>28665</td>\n",
       "    </tr>\n",
       "    <tr>\n",
       "      <th>8</th>\n",
       "      <td>Become a Product Manager | Learn the Skills &amp; ...</td>\n",
       "      <td>144</td>\n",
       "      <td>27408</td>\n",
       "    </tr>\n",
       "    <tr>\n",
       "      <th>9</th>\n",
       "      <td>The Business Intelligence Analyst Course 2020</td>\n",
       "      <td>413</td>\n",
       "      <td>23906</td>\n",
       "    </tr>\n",
       "  </tbody>\n",
       "</table>\n",
       "</div>"
      ],
      "text/plain": [
       "                                             Courses  Lectures  Reviews\n",
       "0  The Complete SQL Bootcamp 2020: Go from Zero t...        84    78006\n",
       "1  Tableau 2020 A-Z: Hands-On Tableau Training fo...        78    54581\n",
       "2             PMP Exam Prep Seminar -  PMBOK Guide 6       292    52653\n",
       "3         The Complete Financial Analyst Course 2020       338    46447\n",
       "4  An Entire MBA in 1 Course:Award Winning Busine...        83    41630\n",
       "5  Microsoft Power BI - A Complete Introduction [...       275    38093\n",
       "6  Agile Crash Course: Agile Project Management; ...        23    30470\n",
       "7  Beginner to Pro in Excel: Financial Modeling a...       275    28665\n",
       "8  Become a Product Manager | Learn the Skills & ...       144    27408\n",
       "9      The Business Intelligence Analyst Course 2020       413    23906"
      ]
     },
     "execution_count": 29,
     "metadata": {},
     "output_type": "execute_result"
    }
   ],
   "source": [
    "#top 10 reviewed courses and lectures.\n",
    "ed[['Courses','Lectures','Reviews']].sort_values(by='Reviews',ascending=False).head(10)"
   ]
  },
  {
   "cell_type": "markdown",
   "id": "d655b03f",
   "metadata": {},
   "source": [
    "Here are the list of top 10 reviewed courses and Lectures."
   ]
  },
  {
   "cell_type": "code",
   "execution_count": 30,
   "id": "69aeebc7",
   "metadata": {},
   "outputs": [
    {
     "data": {
      "text/html": [
       "<div>\n",
       "<style scoped>\n",
       "    .dataframe tbody tr th:only-of-type {\n",
       "        vertical-align: middle;\n",
       "    }\n",
       "\n",
       "    .dataframe tbody tr th {\n",
       "        vertical-align: top;\n",
       "    }\n",
       "\n",
       "    .dataframe thead th {\n",
       "        text-align: right;\n",
       "    }\n",
       "</style>\n",
       "<table border=\"1\" class=\"dataframe\">\n",
       "  <thead>\n",
       "    <tr style=\"text-align: right;\">\n",
       "      <th></th>\n",
       "      <th>Courses</th>\n",
       "      <th>Subscriber</th>\n",
       "    </tr>\n",
       "  </thead>\n",
       "  <tbody>\n",
       "    <tr>\n",
       "      <th>4</th>\n",
       "      <td>An Entire MBA in 1 Course:Award Winning Busine...</td>\n",
       "      <td>374836</td>\n",
       "    </tr>\n",
       "    <tr>\n",
       "      <th>0</th>\n",
       "      <td>The Complete SQL Bootcamp 2020: Go from Zero t...</td>\n",
       "      <td>295509</td>\n",
       "    </tr>\n",
       "    <tr>\n",
       "      <th>3</th>\n",
       "      <td>The Complete Financial Analyst Course 2020</td>\n",
       "      <td>245860</td>\n",
       "    </tr>\n",
       "    <tr>\n",
       "      <th>19</th>\n",
       "      <td>Deep Learning Prerequisites: The Numpy Stack i...</td>\n",
       "      <td>239309</td>\n",
       "    </tr>\n",
       "    <tr>\n",
       "      <th>1</th>\n",
       "      <td>Tableau 2020 A-Z: Hands-On Tableau Training fo...</td>\n",
       "      <td>209070</td>\n",
       "    </tr>\n",
       "    <tr>\n",
       "      <th>15</th>\n",
       "      <td>The Complete Financial Analyst Training &amp; Inve...</td>\n",
       "      <td>182002</td>\n",
       "    </tr>\n",
       "    <tr>\n",
       "      <th>35</th>\n",
       "      <td>The Complete Presentation and Public Speaking/...</td>\n",
       "      <td>158654</td>\n",
       "    </tr>\n",
       "    <tr>\n",
       "      <th>2</th>\n",
       "      <td>PMP Exam Prep Seminar -  PMBOK Guide 6</td>\n",
       "      <td>155282</td>\n",
       "    </tr>\n",
       "    <tr>\n",
       "      <th>22</th>\n",
       "      <td>Introduction to Finance, Accounting, Modeling ...</td>\n",
       "      <td>140676</td>\n",
       "    </tr>\n",
       "    <tr>\n",
       "      <th>7</th>\n",
       "      <td>Beginner to Pro in Excel: Financial Modeling a...</td>\n",
       "      <td>127680</td>\n",
       "    </tr>\n",
       "  </tbody>\n",
       "</table>\n",
       "</div>"
      ],
      "text/plain": [
       "                                              Courses  Subscriber\n",
       "4   An Entire MBA in 1 Course:Award Winning Busine...      374836\n",
       "0   The Complete SQL Bootcamp 2020: Go from Zero t...      295509\n",
       "3          The Complete Financial Analyst Course 2020      245860\n",
       "19  Deep Learning Prerequisites: The Numpy Stack i...      239309\n",
       "1   Tableau 2020 A-Z: Hands-On Tableau Training fo...      209070\n",
       "15  The Complete Financial Analyst Training & Inve...      182002\n",
       "35  The Complete Presentation and Public Speaking/...      158654\n",
       "2              PMP Exam Prep Seminar -  PMBOK Guide 6      155282\n",
       "22  Introduction to Finance, Accounting, Modeling ...      140676\n",
       "7   Beginner to Pro in Excel: Financial Modeling a...      127680"
      ]
     },
     "execution_count": 30,
     "metadata": {},
     "output_type": "execute_result"
    }
   ],
   "source": [
    "ed[['Courses','Subscriber']].sort_values(by='Subscriber',ascending=False).head(10)"
   ]
  },
  {
   "cell_type": "markdown",
   "id": "82948902",
   "metadata": {},
   "source": [
    "Here is the list of top 10 courses with highest number of subscriber.we can see that 'MBA in 1 course' have maximum number of subscriber."
   ]
  },
  {
   "cell_type": "code",
   "execution_count": 31,
   "id": "186e2f9f",
   "metadata": {},
   "outputs": [
    {
     "data": {
      "text/plain": [
       "Price  Courses                                                     \n",
       "1280   Fundamentals of Accounting & Bookkeeping                        2\n",
       "       How to Write a Business Plan                                    2\n",
       "       Sales Fundamentals                                              2\n",
       "       Fundamentals of Change Management                               2\n",
       "8640   Learn Machine Learning From Scratch                             2\n",
       "       Shopify Dropshipping - Scale to 7 figures with Clickfunnels!    2\n",
       "2240   Shopify Dropshipping Masterclass                                2\n",
       "6400   Leading Effective Meetings                                      2\n",
       "       Tools For Inspecting Your Home Or One You May Want To Buy       1\n",
       "       The Wedding Planner Toolkit                                     1\n",
       "Name: Courses, dtype: int64"
      ]
     },
     "execution_count": 31,
     "metadata": {},
     "output_type": "execute_result"
    }
   ],
   "source": [
    "#price wise courses with highest amount.\n",
    "ed.groupby('Price')['Courses'].value_counts().sort_values(ascending=False).head(10)"
   ]
  },
  {
   "cell_type": "markdown",
   "id": "54aeb924",
   "metadata": {},
   "source": [
    "Here are the top courses with highest prices."
   ]
  },
  {
   "cell_type": "code",
   "execution_count": 51,
   "id": "22ef8364",
   "metadata": {},
   "outputs": [
    {
     "data": {
      "text/html": [
       "<div>\n",
       "<style scoped>\n",
       "    .dataframe tbody tr th:only-of-type {\n",
       "        vertical-align: middle;\n",
       "    }\n",
       "\n",
       "    .dataframe tbody tr th {\n",
       "        vertical-align: top;\n",
       "    }\n",
       "\n",
       "    .dataframe thead th {\n",
       "        text-align: right;\n",
       "    }\n",
       "</style>\n",
       "<table border=\"1\" class=\"dataframe\">\n",
       "  <thead>\n",
       "    <tr style=\"text-align: right;\">\n",
       "      <th></th>\n",
       "      <th>Courses</th>\n",
       "      <th>Subscriber</th>\n",
       "      <th>disc_price</th>\n",
       "    </tr>\n",
       "  </thead>\n",
       "  <tbody>\n",
       "    <tr>\n",
       "      <th>3782</th>\n",
       "      <td>Certified Quality Process Analyst Training</td>\n",
       "      <td>211</td>\n",
       "      <td>3200.0</td>\n",
       "    </tr>\n",
       "    <tr>\n",
       "      <th>1453</th>\n",
       "      <td>Certified Quality Auditor Training</td>\n",
       "      <td>1073</td>\n",
       "      <td>3200.0</td>\n",
       "    </tr>\n",
       "    <tr>\n",
       "      <th>3725</th>\n",
       "      <td>​Blockchain &amp; Cryptocurrency Masterclass</td>\n",
       "      <td>256</td>\n",
       "      <td>3200.0</td>\n",
       "    </tr>\n",
       "    <tr>\n",
       "      <th>8422</th>\n",
       "      <td>Unlocking Compensation</td>\n",
       "      <td>926</td>\n",
       "      <td>3200.0</td>\n",
       "    </tr>\n",
       "    <tr>\n",
       "      <th>2307</th>\n",
       "      <td>Advance Sales Analytics for Decision Making wi...</td>\n",
       "      <td>16608</td>\n",
       "      <td>3200.0</td>\n",
       "    </tr>\n",
       "    <tr>\n",
       "      <th>3874</th>\n",
       "      <td>How to start AIRBNB during pandemic without ow...</td>\n",
       "      <td>157</td>\n",
       "      <td>3200.0</td>\n",
       "    </tr>\n",
       "    <tr>\n",
       "      <th>1202</th>\n",
       "      <td>Broker U - Gateway to Becoming a Freight Broker</td>\n",
       "      <td>965</td>\n",
       "      <td>3200.0</td>\n",
       "    </tr>\n",
       "    <tr>\n",
       "      <th>8328</th>\n",
       "      <td>The Buyer Presentation</td>\n",
       "      <td>59</td>\n",
       "      <td>3200.0</td>\n",
       "    </tr>\n",
       "    <tr>\n",
       "      <th>7367</th>\n",
       "      <td>The 12 Pillars of Trading &amp; Investing</td>\n",
       "      <td>38</td>\n",
       "      <td>3200.0</td>\n",
       "    </tr>\n",
       "    <tr>\n",
       "      <th>7727</th>\n",
       "      <td>Portfolio Management Professional - PfMP Pract...</td>\n",
       "      <td>26</td>\n",
       "      <td>3200.0</td>\n",
       "    </tr>\n",
       "  </tbody>\n",
       "</table>\n",
       "</div>"
      ],
      "text/plain": [
       "                                                Courses  Subscriber  \\\n",
       "3782         Certified Quality Process Analyst Training         211   \n",
       "1453                 Certified Quality Auditor Training        1073   \n",
       "3725           ​Blockchain & Cryptocurrency Masterclass         256   \n",
       "8422                             Unlocking Compensation         926   \n",
       "2307  Advance Sales Analytics for Decision Making wi...       16608   \n",
       "3874  How to start AIRBNB during pandemic without ow...         157   \n",
       "1202    Broker U - Gateway to Becoming a Freight Broker         965   \n",
       "8328                            The Buyer Presentation           59   \n",
       "7367              The 12 Pillars of Trading & Investing          38   \n",
       "7727  Portfolio Management Professional - PfMP Pract...          26   \n",
       "\n",
       "      disc_price  \n",
       "3782      3200.0  \n",
       "1453      3200.0  \n",
       "3725      3200.0  \n",
       "8422      3200.0  \n",
       "2307      3200.0  \n",
       "3874      3200.0  \n",
       "1202      3200.0  \n",
       "8328      3200.0  \n",
       "7367      3200.0  \n",
       "7727      3200.0  "
      ]
     },
     "execution_count": 51,
     "metadata": {},
     "output_type": "execute_result"
    }
   ],
   "source": [
    "#analysis of highest discount price offered in which course and how many subcribers are there in that course.\n",
    "ed[['Courses','Subscriber','disc_price']].sort_values(by='disc_price',ascending=False).head(10)"
   ]
  },
  {
   "cell_type": "code",
   "execution_count": 54,
   "id": "6146735b",
   "metadata": {},
   "outputs": [
    {
     "name": "stdout",
     "output_type": "stream",
     "text": [
      "<class 'pandas.core.frame.DataFrame'>\n",
      "RangeIndex: 9447 entries, 0 to 9446\n",
      "Data columns (total 11 columns):\n",
      " #   Column         Non-Null Count  Dtype  \n",
      "---  ------         --------------  -----  \n",
      " 0   id             9447 non-null   int64  \n",
      " 1   Courses        9447 non-null   object \n",
      " 2   Subscriber     9447 non-null   int64  \n",
      " 3   rating         9447 non-null   float64\n",
      " 4   Reviews        9447 non-null   int64  \n",
      " 5   Lectures       9447 non-null   int64  \n",
      " 6   Practice_test  9447 non-null   int64  \n",
      " 7   disc_price     8937 non-null   float64\n",
      " 8   Price          9447 non-null   int64  \n",
      " 9   Published      9447 non-null   object \n",
      " 10  year           9447 non-null   int64  \n",
      "dtypes: float64(2), int64(7), object(2)\n",
      "memory usage: 812.0+ KB\n"
     ]
    }
   ],
   "source": [
    "#verifying that the datatype of published_time is changed or not.\n",
    "ed.info()"
   ]
  },
  {
   "cell_type": "code",
   "execution_count": 55,
   "id": "ecfd7162",
   "metadata": {},
   "outputs": [
    {
     "data": {
      "text/html": [
       "<div>\n",
       "<style scoped>\n",
       "    .dataframe tbody tr th:only-of-type {\n",
       "        vertical-align: middle;\n",
       "    }\n",
       "\n",
       "    .dataframe tbody tr th {\n",
       "        vertical-align: top;\n",
       "    }\n",
       "\n",
       "    .dataframe thead th {\n",
       "        text-align: right;\n",
       "    }\n",
       "</style>\n",
       "<table border=\"1\" class=\"dataframe\">\n",
       "  <thead>\n",
       "    <tr style=\"text-align: right;\">\n",
       "      <th></th>\n",
       "      <th>id</th>\n",
       "      <th>Courses</th>\n",
       "      <th>Subscriber</th>\n",
       "      <th>rating</th>\n",
       "      <th>Reviews</th>\n",
       "      <th>Lectures</th>\n",
       "      <th>Practice_test</th>\n",
       "      <th>disc_price</th>\n",
       "      <th>Price</th>\n",
       "      <th>Published</th>\n",
       "      <th>year</th>\n",
       "    </tr>\n",
       "  </thead>\n",
       "  <tbody>\n",
       "    <tr>\n",
       "      <th>0</th>\n",
       "      <td>762616</td>\n",
       "      <td>The Complete SQL Bootcamp 2020: Go from Zero t...</td>\n",
       "      <td>295509</td>\n",
       "      <td>4.67874</td>\n",
       "      <td>78006</td>\n",
       "      <td>84</td>\n",
       "      <td>0</td>\n",
       "      <td>455.0</td>\n",
       "      <td>8640</td>\n",
       "      <td>2016-04-06</td>\n",
       "      <td>2016</td>\n",
       "    </tr>\n",
       "    <tr>\n",
       "      <th>1</th>\n",
       "      <td>937678</td>\n",
       "      <td>Tableau 2020 A-Z: Hands-On Tableau Training fo...</td>\n",
       "      <td>209070</td>\n",
       "      <td>4.60015</td>\n",
       "      <td>54581</td>\n",
       "      <td>78</td>\n",
       "      <td>0</td>\n",
       "      <td>455.0</td>\n",
       "      <td>8640</td>\n",
       "      <td>2016-08-23</td>\n",
       "      <td>2016</td>\n",
       "    </tr>\n",
       "    <tr>\n",
       "      <th>2</th>\n",
       "      <td>1361790</td>\n",
       "      <td>PMP Exam Prep Seminar -  PMBOK Guide 6</td>\n",
       "      <td>155282</td>\n",
       "      <td>4.59326</td>\n",
       "      <td>52653</td>\n",
       "      <td>292</td>\n",
       "      <td>2</td>\n",
       "      <td>455.0</td>\n",
       "      <td>8640</td>\n",
       "      <td>2017-11-14</td>\n",
       "      <td>2017</td>\n",
       "    </tr>\n",
       "    <tr>\n",
       "      <th>3</th>\n",
       "      <td>648826</td>\n",
       "      <td>The Complete Financial Analyst Course 2020</td>\n",
       "      <td>245860</td>\n",
       "      <td>4.53772</td>\n",
       "      <td>46447</td>\n",
       "      <td>338</td>\n",
       "      <td>0</td>\n",
       "      <td>455.0</td>\n",
       "      <td>8640</td>\n",
       "      <td>2016-01-21</td>\n",
       "      <td>2016</td>\n",
       "    </tr>\n",
       "    <tr>\n",
       "      <th>4</th>\n",
       "      <td>637930</td>\n",
       "      <td>An Entire MBA in 1 Course:Award Winning Busine...</td>\n",
       "      <td>374836</td>\n",
       "      <td>4.47173</td>\n",
       "      <td>41630</td>\n",
       "      <td>83</td>\n",
       "      <td>0</td>\n",
       "      <td>455.0</td>\n",
       "      <td>8640</td>\n",
       "      <td>2016-01-11</td>\n",
       "      <td>2016</td>\n",
       "    </tr>\n",
       "  </tbody>\n",
       "</table>\n",
       "</div>"
      ],
      "text/plain": [
       "        id                                            Courses  Subscriber  \\\n",
       "0   762616  The Complete SQL Bootcamp 2020: Go from Zero t...      295509   \n",
       "1   937678  Tableau 2020 A-Z: Hands-On Tableau Training fo...      209070   \n",
       "2  1361790             PMP Exam Prep Seminar -  PMBOK Guide 6      155282   \n",
       "3   648826         The Complete Financial Analyst Course 2020      245860   \n",
       "4   637930  An Entire MBA in 1 Course:Award Winning Busine...      374836   \n",
       "\n",
       "    rating  Reviews  Lectures  Practice_test  disc_price  Price   Published  \\\n",
       "0  4.67874    78006        84              0       455.0   8640  2016-04-06   \n",
       "1  4.60015    54581        78              0       455.0   8640  2016-08-23   \n",
       "2  4.59326    52653       292              2       455.0   8640  2017-11-14   \n",
       "3  4.53772    46447       338              0       455.0   8640  2016-01-21   \n",
       "4  4.47173    41630        83              0       455.0   8640  2016-01-11   \n",
       "\n",
       "   year  \n",
       "0  2016  \n",
       "1  2016  \n",
       "2  2017  \n",
       "3  2016  \n",
       "4  2016  "
      ]
     },
     "execution_count": 55,
     "metadata": {},
     "output_type": "execute_result"
    }
   ],
   "source": [
    "ed.head()"
   ]
  },
  {
   "cell_type": "code",
   "execution_count": 56,
   "id": "1c9884d1",
   "metadata": {},
   "outputs": [],
   "source": [
    "ed.to_excel(\"D:\\\\Data Science\\\\capstone\\\\projecty_final\\\\ed-tech_project\\\\new_edtech.xlsx\",index=False)"
   ]
  },
  {
   "cell_type": "markdown",
   "id": "137db8d2",
   "metadata": {},
   "source": [
    "### * * * * * * * * * * * *  * * * * END Of Project * * * * * * * * * * *  * * * * "
   ]
  },
  {
   "cell_type": "code",
   "execution_count": null,
   "id": "bb9b7779",
   "metadata": {},
   "outputs": [],
   "source": []
  }
 ],
 "metadata": {
  "kernelspec": {
   "display_name": "Python 3 (ipykernel)",
   "language": "python",
   "name": "python3"
  },
  "language_info": {
   "codemirror_mode": {
    "name": "ipython",
    "version": 3
   },
   "file_extension": ".py",
   "mimetype": "text/x-python",
   "name": "python",
   "nbconvert_exporter": "python",
   "pygments_lexer": "ipython3",
   "version": "3.9.7"
  }
 },
 "nbformat": 4,
 "nbformat_minor": 5
}
